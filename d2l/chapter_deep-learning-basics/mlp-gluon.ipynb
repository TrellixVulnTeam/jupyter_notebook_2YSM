{
 "cells": [
  {
   "cell_type": "markdown",
   "metadata": {},
   "source": [
    "# 多层感知机的简洁实现\n",
    "\n",
    "下面我们使用 Gluon 来实现上一节中的多层感知机。首先我们导入所需的包或模块。"
   ]
  },
  {
   "cell_type": "code",
   "execution_count": 1,
   "metadata": {
    "collapsed": true
   },
   "outputs": [],
   "source": [
    "import d2lzh as d2l\n",
    "from mxnet import gluon, init\n",
    "from mxnet.gluon import loss as gloss, nn"
   ]
  },
  {
   "cell_type": "markdown",
   "metadata": {},
   "source": [
    "## 定义模型\n",
    "\n",
    "和 softmax 回归唯一的不同在于，我们多加了一个全连接层作为隐藏层。它的隐藏单元个数为 256，并使用 ReLU 作为激活函数。"
   ]
  },
  {
   "cell_type": "code",
   "execution_count": 2,
   "metadata": {
    "attributes": {
     "classes": [],
     "id": "",
     "n": "5"
    },
    "collapsed": true
   },
   "outputs": [],
   "source": [
    "net = nn.Sequential()\n",
    "net.add(nn.Dense(256, activation='relu'),\n",
    "        nn.Dense(10))\n",
    "net.initialize(init.Normal(sigma=0.01))"
   ]
  },
  {
   "cell_type": "markdown",
   "metadata": {},
   "source": [
    "## 读取数据并训练模型\n",
    "\n",
    "我们使用和训练 softmax 回归几乎相同的步骤来读取数据并训练模型。"
   ]
  },
  {
   "cell_type": "code",
   "execution_count": 3,
   "metadata": {
    "attributes": {
     "classes": [],
     "id": "",
     "n": "6"
    }
   },
   "outputs": [
    {
     "name": "stdout",
     "output_type": "stream",
     "text": [
      "epoch 1, loss 0.8640, train acc 0.678, test acc 0.821\n",
      "epoch 2, loss 0.4952, train acc 0.816, test acc 0.829\n",
      "epoch 3, loss 0.4353, train acc 0.839, test acc 0.849\n",
      "epoch 4, loss 0.4089, train acc 0.848, test acc 0.864\n",
      "epoch 5, loss 0.3814, train acc 0.859, test acc 0.870\n"
     ]
    }
   ],
   "source": [
    "batch_size = 256\n",
    "train_iter, test_iter = d2l.load_data_fashion_mnist(batch_size)\n",
    "\n",
    "loss = gloss.SoftmaxCrossEntropyLoss()\n",
    "trainer = gluon.Trainer(net.collect_params(), 'sgd', {'learning_rate': 0.5})\n",
    "num_epochs = 5\n",
    "d2l.train_ch3(net, train_iter, test_iter, loss, num_epochs, batch_size, None,\n",
    "              None, trainer)"
   ]
  },
  {
   "cell_type": "markdown",
   "metadata": {},
   "source": [
    "## 小结\n",
    "\n",
    "* 通过 Gluon 我们可以更简洁地实现多层感知机。\n",
    "\n",
    "## 练习\n",
    "\n",
    "* 尝试多加入几个隐藏层，对比上节中从零开始的实现。\n",
    "* 使用其他的激活函数，看看对结果的影响。\n",
    "\n",
    "## 扫码直达[讨论区](https://discuss.gluon.ai/t/topic/738)\n",
    "\n",
    "![](../img/qr_mlp-gluon.svg)"
   ]
  },
  {
   "cell_type": "code",
   "execution_count": 4,
   "metadata": {},
   "outputs": [
    {
     "name": "stdout",
     "output_type": "stream",
     "text": [
      "epoch 1, loss 1.5570, train acc 0.402, test acc 0.713\n",
      "epoch 2, loss 0.6565, train acc 0.748, test acc 0.800\n",
      "epoch 3, loss 0.5077, train acc 0.813, test acc 0.841\n",
      "epoch 4, loss 0.4524, train acc 0.834, test acc 0.848\n",
      "epoch 5, loss 0.4180, train acc 0.846, test acc 0.866\n"
     ]
    }
   ],
   "source": [
    "# 尝试多加入几个隐藏层，对比上节中从零开始的实现。\n",
    "net_2 = nn.Sequential()\n",
    "net_2.add(nn.Dense(256, activation='relu'),\n",
    "        nn.Dense(128, activation='relu'),\n",
    "        nn.Dense(10))\n",
    "net_2.initialize(init.Normal(sigma=0.01))\n",
    "batch_size = 256\n",
    "train_iter, test_iter = d2l.load_data_fashion_mnist(batch_size)\n",
    "\n",
    "loss_2 = gloss.SoftmaxCrossEntropyLoss()\n",
    "trainer_2 = gluon.Trainer(net_2.collect_params(), 'sgd', {'learning_rate': 0.5})\n",
    "num_epochs = 5\n",
    "d2l.train_ch3(net_2, train_iter, test_iter, loss_2, num_epochs, batch_size, None,\n",
    "              None, trainer_2)"
   ]
  },
  {
   "cell_type": "code",
   "execution_count": 5,
   "metadata": {},
   "outputs": [
    {
     "name": "stdout",
     "output_type": "stream",
     "text": [
      "epoch 1, loss 1.8698, train acc 0.305, test acc 0.600\n",
      "epoch 2, loss 0.9283, train acc 0.641, test acc 0.720\n",
      "epoch 3, loss 0.6926, train acc 0.744, test acc 0.766\n",
      "epoch 4, loss 0.6031, train acc 0.783, test acc 0.815\n",
      "epoch 5, loss 0.5477, train acc 0.805, test acc 0.825\n"
     ]
    }
   ],
   "source": [
    "# 尝试多加入几个隐藏层，对比上节中从零开始的实现。\n",
    "net_2 = nn.Sequential()\n",
    "net_2.add(nn.Dense(256, activation='relu'),\n",
    "        nn.Dense(128, activation='relu'),\n",
    "        nn.Dense(10))\n",
    "net_2.initialize(init.Normal(sigma=0.01))\n",
    "batch_size = 256\n",
    "train_iter, test_iter = d2l.load_data_fashion_mnist(batch_size)\n",
    "\n",
    "loss_2 = gloss.SoftmaxCrossEntropyLoss()\n",
    "trainer_2 = gluon.Trainer(net_2.collect_params(), 'sgd', {'learning_rate': 0.1})\n",
    "num_epochs = 5\n",
    "d2l.train_ch3(net_2, train_iter, test_iter, loss_2, num_epochs, batch_size, None,\n",
    "              None, trainer_2)"
   ]
  },
  {
   "cell_type": "code",
   "execution_count": 8,
   "metadata": {},
   "outputs": [
    {
     "name": "stdout",
     "output_type": "stream",
     "text": [
      "epoch 1, loss 2.3109, train acc 0.110, test acc 0.199\n",
      "epoch 2, loss 1.5501, train acc 0.381, test acc 0.605\n",
      "epoch 3, loss 0.9362, train acc 0.629, test acc 0.670\n",
      "epoch 4, loss 0.7837, train acc 0.694, test acc 0.747\n",
      "epoch 5, loss 0.6932, train acc 0.735, test acc 0.761\n"
     ]
    }
   ],
   "source": [
    "# 尝试多加入几个隐藏层，对比上节中从零开始的实现。\n",
    "net_2 = nn.Sequential()\n",
    "net_2.add(nn.Dense(256, activation='sigmoid'),\n",
    "        nn.Dense(128, activation='sigmoid'),\n",
    "        nn.Dense(10))\n",
    "net_2.initialize(init.Normal(sigma=0.01))\n",
    "batch_size = 256\n",
    "train_iter, test_iter = d2l.load_data_fashion_mnist(batch_size)\n",
    "\n",
    "loss_2 = gloss.SoftmaxCrossEntropyLoss()\n",
    "trainer_2 = gluon.Trainer(net_2.collect_params(), 'sgd', {'learning_rate': 0.5})\n",
    "num_epochs = 5\n",
    "d2l.train_ch3(net_2, train_iter, test_iter, loss_2, num_epochs, batch_size, None,\n",
    "              None, trainer_2)"
   ]
  }
 ],
 "metadata": {
  "kernelspec": {
   "display_name": "Python 3",
   "language": "python",
   "name": "python3"
  },
  "language_info": {
   "codemirror_mode": {
    "name": "ipython",
    "version": 3
   },
   "file_extension": ".py",
   "mimetype": "text/x-python",
   "name": "python",
   "nbconvert_exporter": "python",
   "pygments_lexer": "ipython3",
   "version": "3.6.2"
  },
  "toc": {
   "base_numbering": 1,
   "nav_menu": {},
   "number_sections": true,
   "sideBar": true,
   "skip_h1_title": false,
   "title_cell": "Table of Contents",
   "title_sidebar": "Contents",
   "toc_cell": false,
   "toc_position": {},
   "toc_section_display": true,
   "toc_window_display": false
  }
 },
 "nbformat": 4,
 "nbformat_minor": 2
}
