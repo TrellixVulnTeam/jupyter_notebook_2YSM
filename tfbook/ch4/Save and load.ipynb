{
 "cells": [
  {
   "cell_type": "code",
   "execution_count": 1,
   "metadata": {},
   "outputs": [],
   "source": [
    "import tensorflow as tf"
   ]
  },
  {
   "cell_type": "code",
   "execution_count": 2,
   "metadata": {},
   "outputs": [],
   "source": [
    "from tensorflow import keras\n",
    "import numpy as np"
   ]
  },
  {
   "cell_type": "code",
   "execution_count": 3,
   "metadata": {},
   "outputs": [],
   "source": [
    "mnist = keras.datasets.mnist"
   ]
  },
  {
   "cell_type": "code",
   "execution_count": 4,
   "metadata": {},
   "outputs": [],
   "source": [
    "(x_train, y_train), (x_test, y_test) = mnist.load_data()"
   ]
  },
  {
   "cell_type": "code",
   "execution_count": 5,
   "metadata": {},
   "outputs": [],
   "source": [
    "x_train = np.reshape(x_train,[-1,784])"
   ]
  },
  {
   "cell_type": "code",
   "execution_count": 6,
   "metadata": {},
   "outputs": [],
   "source": [
    "x_test = np.reshape(x_test,[-1,784])"
   ]
  },
  {
   "cell_type": "code",
   "execution_count": 43,
   "metadata": {},
   "outputs": [],
   "source": [
    "#设置类别的数量\n",
    "#     num_classes = 10\n",
    "#     #需要转换的整数\n",
    "#     arr = [1,3,4,5,9]\n",
    "#     #将整数转为一个10位的one hot编码\n",
    "#     print(np.eye(10)[arr])\n",
    "\n",
    "def convert_to_one_hot(y,num_class):\n",
    "    return np.eye(num_class)[y]"
   ]
  },
  {
   "cell_type": "code",
   "execution_count": 8,
   "metadata": {},
   "outputs": [
    {
     "data": {
      "text/plain": [
       "array([[0., 1., 0.],\n",
       "       [0., 0., 1.]])"
      ]
     },
     "execution_count": 8,
     "metadata": {},
     "output_type": "execute_result"
    }
   ],
   "source": [
    "np.eye(3)[[1,2]]"
   ]
  },
  {
   "cell_type": "code",
   "execution_count": 44,
   "metadata": {},
   "outputs": [],
   "source": [
    "y_train = convert_to_one_hot(y_train,10)"
   ]
  },
  {
   "cell_type": "code",
   "execution_count": 47,
   "metadata": {},
   "outputs": [],
   "source": [
    "y_test = convert_to_one_hot(y_test,10)"
   ]
  },
  {
   "cell_type": "code",
   "execution_count": 48,
   "metadata": {},
   "outputs": [],
   "source": [
    "x_train = x_train.astype('float32')\n",
    "x_test = x_test.astype('float32')\n",
    "y_train = y_train.astype('float32')\n",
    "y_test = y_train.astype('float32')"
   ]
  },
  {
   "cell_type": "code",
   "execution_count": 13,
   "metadata": {},
   "outputs": [],
   "source": [
    "X = tf.placeholder(tf.float32,[None,784])\n",
    "Y = tf.placeholder(tf.float32,[None,10])"
   ]
  },
  {
   "cell_type": "code",
   "execution_count": 14,
   "metadata": {},
   "outputs": [],
   "source": [
    "# 初始化权重参数\n",
    "def weight_variable(shape):\n",
    "    initial = tf.truncated_normal(shape, stddev=0.1)\n",
    "    return tf.Variable(initial)\n",
    "\n",
    "\n",
    "def bias_variable(shape):\n",
    "    initial = tf.constant(0.1, shape=shape)\n",
    "    return tf.Variable(initial)"
   ]
  },
  {
   "cell_type": "code",
   "execution_count": 15,
   "metadata": {},
   "outputs": [],
   "source": [
    "w_h = weight_variable([784,625])\n",
    "w_h2 = weight_variable([625,625])\n",
    "w_o = weight_variable([625,10])\n",
    "\n",
    "b_h = bias_variable([625])\n",
    "b_h2 = bias_variable([625])\n",
    "b_o = bias_variable([10])"
   ]
  },
  {
   "cell_type": "code",
   "execution_count": 16,
   "metadata": {},
   "outputs": [],
   "source": [
    "def model(X,w_h,w_h2,w_o,b_h,b_h2,b_o,p_keep_input,p_keep_hidden):\n",
    "    X = tf.nn.dropout(X,p_keep_input)\n",
    "    h = tf.nn.relu(tf.matmul(X,w_h)+b_h)\n",
    "    h = tf.nn.dropout(h,p_keep_hidden)\n",
    "    \n",
    "    h2 = tf.nn.relu(tf.matmul(h,w_h2)+b_h2)\n",
    "    h2 = tf.nn.dropout(h2,p_keep_hidden)\n",
    "    \n",
    "    return tf.matmul(h2,w_o)+b_o"
   ]
  },
  {
   "cell_type": "code",
   "execution_count": 17,
   "metadata": {},
   "outputs": [],
   "source": [
    "p_keep_input = tf.placeholder(tf.float32)\n",
    "p_keep_hidden = tf.placeholder(tf.float32)\n",
    "py_x = model(X,w_h,w_h2,w_o,b_h,b_h2,b_o,p_keep_input,p_keep_hidden)"
   ]
  },
  {
   "cell_type": "code",
   "execution_count": 19,
   "metadata": {},
   "outputs": [],
   "source": [
    "cost = tf.reduce_mean(tf.nn.softmax_cross_entropy_with_logits_v2(logits=py_x,labels=Y))\n",
    "train_op = tf.train.RMSPropOptimizer(0.01,0.9).minimize(cost)\n",
    "predict_op = tf.argmax(py_x,1)"
   ]
  },
  {
   "cell_type": "code",
   "execution_count": 20,
   "metadata": {},
   "outputs": [],
   "source": [
    "import os\n",
    "ckpt_dir = \"./ckpt_dir\" \n",
    "if not os.path.exists( ckpt_dir): \n",
    "    os.makedirs( ckpt_dir)"
   ]
  },
  {
   "cell_type": "code",
   "execution_count": 21,
   "metadata": {},
   "outputs": [],
   "source": [
    "# 计数器 变量， 设置 它的 trainable= False， 不需 要被 训练 \n",
    "global_step = tf.Variable( 0, name='global_step', trainable= False)"
   ]
  },
  {
   "cell_type": "code",
   "execution_count": 22,
   "metadata": {},
   "outputs": [],
   "source": [
    "# 在 声明 完 所有 变量 后， 调用 tf.train.Saver \n",
    "saver = tf.train.Saver() # 位于 tf. train. Saver 之后 的 变量 将不 会被 存储 \n",
    "non_storable_variable = tf.Variable(777)"
   ]
  },
  {
   "cell_type": "code",
   "execution_count": null,
   "metadata": {},
   "outputs": [
    {
     "name": "stdout",
     "output_type": "stream",
     "text": [
      " Start from: 0\n"
     ]
    }
   ],
   "source": [
    "with tf.Session() as sess: \n",
    "    sess.run(tf.global_variables_initializer())\n",
    "    start = global_step.eval() # 得到 global_ step 的 初始 值 \n",
    "    print(\" Start from:\", start) \n",
    "    for i in range( start, 100): # 以 128 作为 batch_ size \n",
    "        for start, end in zip( range( 0, 60000, 128), range( 128, 60000+ 1, 128)): \n",
    "            sess.run( train_op, feed_dict={ X: x_train[start:end], Y: y_train[start:end], p_keep_input: 0.8, p_keep_hidden: 0.5}) \n",
    "            global_step.assign(i).eval() # 更新 计数器 \n",
    "            saver.save( sess, ckpt_dir + \"/model.ckpt\", global_step= global_step) # 存储 模型\n",
    "    "
   ]
  },
  {
   "cell_type": "code",
   "execution_count": 25,
   "metadata": {},
   "outputs": [
    {
     "data": {
      "text/plain": [
       "(128,)"
      ]
     },
     "execution_count": 25,
     "metadata": {},
     "output_type": "execute_result"
    }
   ],
   "source": [
    "y_train[start:end].shape"
   ]
  }
 ],
 "metadata": {
  "kernelspec": {
   "display_name": "Python 3",
   "language": "python",
   "name": "python3"
  },
  "language_info": {
   "codemirror_mode": {
    "name": "ipython",
    "version": 3
   },
   "file_extension": ".py",
   "mimetype": "text/x-python",
   "name": "python",
   "nbconvert_exporter": "python",
   "pygments_lexer": "ipython3",
   "version": "3.6.2"
  },
  "toc": {
   "base_numbering": 1,
   "nav_menu": {},
   "number_sections": true,
   "sideBar": true,
   "skip_h1_title": false,
   "title_cell": "Table of Contents",
   "title_sidebar": "Contents",
   "toc_cell": false,
   "toc_position": {},
   "toc_section_display": true,
   "toc_window_display": false
  }
 },
 "nbformat": 4,
 "nbformat_minor": 2
}
