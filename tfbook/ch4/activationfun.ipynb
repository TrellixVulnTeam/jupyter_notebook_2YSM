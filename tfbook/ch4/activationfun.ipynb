{
 "cells": [
  {
   "cell_type": "code",
   "execution_count": 1,
   "metadata": {},
   "outputs": [],
   "source": [
    "import tensorflow as tf"
   ]
  },
  {
   "cell_type": "code",
   "execution_count": 2,
   "metadata": {},
   "outputs": [],
   "source": [
    "a = tf.constant([[-1.0,2.0,3.0,4.0]])"
   ]
  },
  {
   "cell_type": "code",
   "execution_count": 3,
   "metadata": {},
   "outputs": [
    {
     "name": "stdout",
     "output_type": "stream",
     "text": [
      "[[-0.  4.  6.  8.]]\n",
      "[[-2.  4.  6.  8.]]\n"
     ]
    }
   ],
   "source": [
    "with tf.Session() as sess:\n",
    "    b = tf.nn.dropout(a,0.5,noise_shape=[1,4])\n",
    "    print(sess.run(b))\n",
    "    b = tf.nn.dropout(a,0.5,noise_shape=[1,1])\n",
    "    print(sess.run(b))"
   ]
  },
  {
   "cell_type": "code",
   "execution_count": 4,
   "metadata": {},
   "outputs": [
    {
     "data": {
      "text/plain": [
       "TensorShape([Dimension(1), Dimension(4)])"
      ]
     },
     "execution_count": 4,
     "metadata": {},
     "output_type": "execute_result"
    }
   ],
   "source": [
    "a.shape"
   ]
  },
  {
   "cell_type": "code",
   "execution_count": 7,
   "metadata": {},
   "outputs": [],
   "source": [
    "import numpy as np"
   ]
  },
  {
   "cell_type": "code",
   "execution_count": 8,
   "metadata": {},
   "outputs": [],
   "source": [
    "input_data = tf.Variable( np.random.rand( 10, 9, 9, 3), dtype = np.float32 ) \n",
    "filter_data = tf.Variable( np.random.rand( 2, 2, 3, 2), dtype = np.float32) \n",
    "y = tf.nn.conv2d( input_data, filter_data, strides = [1, 1, 1, 1], padding = 'SAME')\n"
   ]
  },
  {
   "cell_type": "code",
   "execution_count": 11,
   "metadata": {},
   "outputs": [
    {
     "name": "stdout",
     "output_type": "stream",
     "text": [
      "(10, 9, 9, 2)\n"
     ]
    }
   ],
   "source": [
    "with tf.Session() as sess:\n",
    "    input_data = tf.Variable( np.random.rand( 10, 9, 9, 3), dtype = np.float32 ) \n",
    "    filter_data = tf.Variable( np.random.rand( 2, 2, 3, 2), dtype = np.float32) \n",
    "    y = tf.nn.conv2d( input_data, filter_data, strides = [1, 1, 1, 1], padding = 'SAME')\n",
    "    print(y.shape)"
   ]
  }
 ],
 "metadata": {
  "kernelspec": {
   "display_name": "Python 3",
   "language": "python",
   "name": "python3"
  },
  "language_info": {
   "codemirror_mode": {
    "name": "ipython",
    "version": 3
   },
   "file_extension": ".py",
   "mimetype": "text/x-python",
   "name": "python",
   "nbconvert_exporter": "python",
   "pygments_lexer": "ipython3",
   "version": "3.6.2"
  },
  "toc": {
   "base_numbering": 1,
   "nav_menu": {},
   "number_sections": true,
   "sideBar": true,
   "skip_h1_title": false,
   "title_cell": "Table of Contents",
   "title_sidebar": "Contents",
   "toc_cell": false,
   "toc_position": {},
   "toc_section_display": true,
   "toc_window_display": false
  }
 },
 "nbformat": 4,
 "nbformat_minor": 2
}
